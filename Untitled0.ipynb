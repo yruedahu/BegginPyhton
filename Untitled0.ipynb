{
  "cells": [
    {
      "cell_type": "markdown",
      "metadata": {
        "id": "view-in-github",
        "colab_type": "text"
      },
      "source": [
        "<a href=\"https://colab.research.google.com/github/yruedahu/BegginPyhton/blob/main/Untitled0.ipynb\" target=\"_parent\"><img src=\"https://colab.research.google.com/assets/colab-badge.svg\" alt=\"Open In Colab\"/></a>"
      ]
    },
    {
      "cell_type": "code",
      "execution_count": null,
      "metadata": {
        "colab": {
          "base_uri": "https://localhost:8080/"
        },
        "id": "SO0Be34mO7eV",
        "outputId": "a007f532-7018-4e59-a6af-a5e99df06ba4"
      },
      "outputs": [
        {
          "name": "stdout",
          "output_type": "stream",
          "text": [
            "ingrese su altura 1.70\n",
            "Su peso ideal es 69.0\n"
          ]
        },
        {
          "data": {
            "text/plain": [
              "69.35999999999999"
            ]
          },
          "execution_count": 4,
          "metadata": {},
          "output_type": "execute_result"
        }
      ],
      "source": [
        "def print_name():\n",
        "    altura = float(input (\"ingrese su altura \"))\n",
        "    try:\n",
        "\n",
        "      if print_name != int:\n",
        "        print_name()\n",
        "      else:\n",
        "        imc=24\n",
        "        peso = print_name**2*imc\n",
        "        print(\"Su peso ideal es\", round(peso,0))\n",
        "        return peso\n",
        "\n",
        "    except ValueError:\n",
        "      print(\"Ingrese un numero valido\")\n",
        "      return None\n",
        "print_name()"
      ]
    },
    {
      "cell_type": "code",
      "execution_count": null,
      "metadata": {
        "colab": {
          "background_save": true
        },
        "id": "JZ3VcXSeZPJK",
        "outputId": "db80c163-dc8f-4582-e90d-b7707e9a90f5"
      },
      "outputs": [
        {
          "name": "stdout",
          "output_type": "stream",
          "text": [
            "Current Time = 18:55:45\n",
            "4\n",
            "hay clase\n"
          ]
        }
      ],
      "source": [
        "from datetime import datetime, timedelta\n",
        "from time import strftime\n",
        "\n",
        "now = datetime.now()\n",
        "now_less_5hours=now - timedelta(hours=5)\n",
        "\n",
        "current_time = now_less_5hours.strftime(\"%H:%M:%S\")\n",
        "print(\"Current Time =\", current_time)\n",
        "print(now_less_5hours.isoweekday())\n",
        "\n",
        "dia=now_less_5hours.isoweekday()\n",
        "\n",
        "if (dia == 2 or dia==4):\n",
        "  print(\"hay clase\")\n",
        "else:\n",
        "  print(\"no hay clase\")"
      ]
    },
    {
      "cell_type": "code",
      "execution_count": null,
      "metadata": {
        "id": "KvdJy8pPSUO2"
      },
      "outputs": [],
      "source": [
        "nombre = input(\"ingrese su nombre\")\n",
        "edad = input(\"Ingrese su edad \")\n",
        "print(f\"hola {nombre} su edad es{edad}\")"
      ]
    },
    {
      "cell_type": "code",
      "source": [
        "a = float(input(\"Ingrese un valor para la variable a\"))\n",
        "b = float(input(\"Ingrese un valor para la variable b\"))\n",
        "c = float(input(\"Ingrese un valor para la variable c\"))\n",
        "resul = (a**3 *(b**2 - 2*a*c))/(2*b)\n",
        "print(f\"el resultado de su operacion es {resul}\")"
      ],
      "metadata": {
        "colab": {
          "base_uri": "https://localhost:8080/"
        },
        "id": "hDv89d1fJE2j",
        "outputId": "7ac8b078-1a6e-4b1f-b8fa-b893e2a1a973"
      },
      "execution_count": null,
      "outputs": [
        {
          "output_type": "stream",
          "name": "stdout",
          "text": [
            "Ingrese un valor para la variable a3\n",
            "Ingrese un valor para la variable b2\n",
            "Ingrese un valor para la variable c1\n",
            "el resultado de su operacion es -13.5\n"
          ]
        }
      ]
    },
    {
      "cell_type": "code",
      "source": [
        "contraseña = None\n",
        "exit = \"exit\"\n",
        "while contraseña != 123:\n",
        "    contraseña = int(input(\"Ingrese su contraseña para acceder \"))\n",
        "    if contraseña == 123:\n",
        "      print(\"Bienvenido\")\n",
        "    elif contraseña == \"salir\":\n",
        "      print (\"Saliendo\")\n",
        "\n",
        "\n",
        "\n",
        "\n",
        "  "
      ],
      "metadata": {
        "id": "7pOPJmU7Fz28"
      },
      "execution_count": null,
      "outputs": []
    },
    {
      "cell_type": "code",
      "source": [
        "lista= [1,2,3,4,5,6]\n",
        "print(len(lista), \"longitud de la lista\")\n",
        "print(sum(lista), \"suma total de la lista\")\n",
        "print(max(lista), \"valor mas alto de la lista\")\n",
        "print(min(lista), \"valor mas bajo de la lista\")\n",
        "print((4 in lista), \"dice si el valor esta o no en la lista\")\n",
        "print(lista.index())"
      ],
      "metadata": {
        "colab": {
          "base_uri": "https://localhost:8080/"
        },
        "id": "jHNcgkCRG2Fk",
        "outputId": "ce47056b-af3c-42e4-fa09-9059d3e29bbc"
      },
      "execution_count": 24,
      "outputs": [
        {
          "output_type": "stream",
          "name": "stdout",
          "text": [
            "6 longitud de la lista\n",
            "21 suma total de la lista\n",
            "6 valor mas alto de la lista\n",
            "1 valor mas bajo de la lista\n",
            "True dice si el valor esta o no en la lista\n"
          ]
        }
      ]
    }
  ],
  "metadata": {
    "colab": {
      "provenance": [],
      "collapsed_sections": [],
      "authorship_tag": "ABX9TyM7d3AAKTu+lBxDHN11UTEr",
      "include_colab_link": true
    },
    "kernelspec": {
      "display_name": "Python 3",
      "name": "python3"
    },
    "language_info": {
      "name": "python"
    }
  },
  "nbformat": 4,
  "nbformat_minor": 0
}