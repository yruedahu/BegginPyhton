{
  "nbformat": 4,
  "nbformat_minor": 0,
  "metadata": {
    "colab": {
      "provenance": [],
      "collapsed_sections": [],
      "authorship_tag": "ABX9TyNfn6quzY7DjfShynimBZPY",
      "include_colab_link": true
    },
    "kernelspec": {
      "name": "python3",
      "display_name": "Python 3"
    },
    "language_info": {
      "name": "python"
    }
  },
  "cells": [
    {
      "cell_type": "markdown",
      "metadata": {
        "id": "view-in-github",
        "colab_type": "text"
      },
      "source": [
        "<a href=\"https://colab.research.google.com/github/yruedahu/BegginPyhton/blob/main/Untitled0.ipynb\" target=\"_parent\"><img src=\"https://colab.research.google.com/assets/colab-badge.svg\" alt=\"Open In Colab\"/></a>"
      ]
    },
    {
      "cell_type": "code",
      "source": [
        "nombre = input(\"ingrese su nombre \")\n",
        "print(\"Hola\",nombre)"
      ],
      "metadata": {
        "colab": {
          "base_uri": "https://localhost:8080/"
        },
        "id": "G0Il5yYAj7zg",
        "outputId": "b2445d12-1284-45e0-9133-1e9e0774a2a8"
      },
      "execution_count": 20,
      "outputs": [
        {
          "output_type": "stream",
          "name": "stdout",
          "text": [
            "ingrese su nombre mateo\n",
            "Hola mateo\n"
          ]
        }
      ]
    },
    {
      "cell_type": "code",
      "source": [
        "print(\"hola mundo\")"
      ],
      "metadata": {
        "colab": {
          "base_uri": "https://localhost:8080/"
        },
        "id": "CqNpcjM-kpv6",
        "outputId": "2cd42195-1b52-4ca6-ea02-9c1af9288ef4"
      },
      "execution_count": 21,
      "outputs": [
        {
          "output_type": "stream",
          "name": "stdout",
          "text": [
            "hola mundo\n"
          ]
        }
      ]
    },
    {
      "cell_type": "code",
      "source": [
        "intervalo = int(input(\"Ingrese el valor del intervalo \"))\n",
        "for i in range(0, 50, intervalo):\n",
        "  print(\"los numeros del ciclo son\",i)"
      ],
      "metadata": {
        "colab": {
          "base_uri": "https://localhost:8080/"
        },
        "id": "2XmSX7lAlPvf",
        "outputId": "532077d7-91fe-4416-b723-bd21293589ca"
      },
      "execution_count": 36,
      "outputs": [
        {
          "output_type": "stream",
          "name": "stdout",
          "text": [
            "Ingrese el valor del intervalo 5\n",
            "los numeros del ciclo son 0\n",
            "los numeros del ciclo son 5\n",
            "los numeros del ciclo son 10\n",
            "los numeros del ciclo son 15\n",
            "los numeros del ciclo son 20\n",
            "los numeros del ciclo son 25\n",
            "los numeros del ciclo son 30\n",
            "los numeros del ciclo son 35\n",
            "los numeros del ciclo son 40\n",
            "los numeros del ciclo son 45\n"
          ]
        }
      ]
    },
    {
      "cell_type": "code",
      "execution_count": 14,
      "metadata": {
        "id": "SO0Be34mO7eV"
      },
      "outputs": [],
      "source": [
        "def print_name():\n",
        "    altura = float(input (\"ingrese su altura \"))\n",
        "    try:\n",
        "\n",
        "      if print_name != int:\n",
        "        print_name()\n",
        "      else:\n",
        "        imc=24\n",
        "        peso = print_name**2*imc\n",
        "        print(\"Su peso ideal es\", round(peso,0))\n",
        "        return peso\n",
        "\n",
        "    except ValueError:\n",
        "      print(\"Ingrese un numero valido\")\n",
        "      return None\n",
        "print_name()"
      ]
    },
    {
      "cell_type": "code",
      "source": [
        "from datetime import datetime, timedelta\n",
        "from time import strftime\n",
        "\n",
        "now = datetime.now()\n",
        "now_less_5hours=now - timedelta(hours=5)\n",
        "\n",
        "current_time = now_less_5hours.strftime(\"%H:%M:%S\")\n",
        "print(\"Current Time =\", current_time)\n",
        "print(now_less_5hours.isoweekday())\n",
        "\n",
        "dia=now_less_5hours.isoweekday()\n",
        "\n",
        "if (dia == 2 or dia==4):\n",
        "  print(\"hay clase\")\n",
        "else:\n",
        "  print(\"no hay clase\")"
      ],
      "metadata": {
        "colab": {
          "base_uri": "https://localhost:8080/"
        },
        "id": "JZ3VcXSeZPJK",
        "outputId": "ae265db5-cffc-4ae2-9b68-cb2fffa4809d"
      },
      "execution_count": 11,
      "outputs": [
        {
          "output_type": "stream",
          "name": "stdout",
          "text": [
            "Current Time = 18:55:45\n",
            "4\n",
            "hay clase\n"
          ]
        }
      ]
    }
  ]
}